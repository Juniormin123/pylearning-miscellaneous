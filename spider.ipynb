{
 "cells": [
  {
   "cell_type": "markdown",
   "metadata": {},
   "source": [
    "#### Requests"
   ]
  },
  {
   "cell_type": "markdown",
   "metadata": {},
   "source": [
    "##### Use proxy in requests"
   ]
  },
  {
   "cell_type": "code",
   "execution_count": 1,
   "metadata": {},
   "outputs": [],
   "source": [
    "import requests\n",
    "from bs4 import BeautifulSoup"
   ]
  },
  {
   "cell_type": "code",
   "execution_count": 2,
   "metadata": {},
   "outputs": [],
   "source": [
    "url = 'http://www.speedtest.cn/'\n",
    "api_url = 'https://forge.speedtest.cn/api/location/info'\n",
    "headers = {\n",
    "    'User-Agent': 'Mozilla/5.0 (Windows NT 10.0; Win64; x64) AppleWebKit/537.36 (KHTML, like Gecko) Chrome/73.0.3683.86 Safari/537.36'\n",
    "}\n",
    "\n",
    "# Both http and https can use the same proxy port.\n",
    "proxy = {\n",
    "    'http': 'http://203.195.175.131:8800',\n",
    "    'https': 'http://203.195.175.131:8800'\n",
    "}\n"
   ]
  },
  {
   "cell_type": "code",
   "execution_count": null,
   "metadata": {},
   "outputs": [],
   "source": []
  },
  {
   "cell_type": "code",
   "execution_count": 3,
   "metadata": {},
   "outputs": [],
   "source": [
    "# keyword proxies=proxy \n",
    "api_response = requests.get(url=api_url, headers=headers, proxies=proxy)"
   ]
  },
  {
   "cell_type": "code",
   "execution_count": 4,
   "metadata": {},
   "outputs": [
    {
     "data": {
      "text/plain": [
       "'{\"ip\":\"203.195.175.131\",\"country\":\"\\\\u4e2d\\\\u56fd\",\"country_code\":\"CN\",\"province\":\"\\\\u5e7f\\\\u4e1c\",\"province_code\":\"Guangdong\",\"city\":\"\\\\u5e7f\\\\u5dde\",\"city_code\":\"Guangzhou\",\"county\":null,\"county_code\":null,\"location\":\"\\\\u5e7f\\\\u4e1c\\\\u5e7f\\\\u5dde\",\"operator\":\"\\\\u7535\\\\u4fe1\",\"operator_code\":\"China Telecom\",\"lon\":113.27529,\"lat\":23.12784}'"
      ]
     },
     "execution_count": 4,
     "metadata": {},
     "output_type": "execute_result"
    }
   ],
   "source": [
    "api_response.text"
   ]
  },
  {
   "cell_type": "code",
   "execution_count": null,
   "metadata": {},
   "outputs": [],
   "source": []
  },
  {
   "cell_type": "code",
   "execution_count": 5,
   "metadata": {},
   "outputs": [],
   "source": [
    "resp_json = api_response.json()"
   ]
  },
  {
   "cell_type": "code",
   "execution_count": 6,
   "metadata": {},
   "outputs": [
    {
     "data": {
      "text/plain": [
       "{'ip': '203.195.175.131',\n",
       " 'country': '中国',\n",
       " 'country_code': 'CN',\n",
       " 'province': '广东',\n",
       " 'province_code': 'Guangdong',\n",
       " 'city': '广州',\n",
       " 'city_code': 'Guangzhou',\n",
       " 'county': None,\n",
       " 'county_code': None,\n",
       " 'location': '广东广州',\n",
       " 'operator': '电信',\n",
       " 'operator_code': 'China Telecom',\n",
       " 'lon': 113.27529,\n",
       " 'lat': 23.12784}"
      ]
     },
     "execution_count": 6,
     "metadata": {},
     "output_type": "execute_result"
    }
   ],
   "source": [
    "# https proxy successfully added\n",
    "resp_json"
   ]
  },
  {
   "cell_type": "code",
   "execution_count": null,
   "metadata": {},
   "outputs": [],
   "source": []
  },
  {
   "cell_type": "code",
   "execution_count": 27,
   "metadata": {},
   "outputs": [
    {
     "data": {
      "text/plain": [
       "{'origin': '203.195.175.131, 203.195.175.131'}"
      ]
     },
     "execution_count": 27,
     "metadata": {},
     "output_type": "execute_result"
    }
   ],
   "source": [
    "# http proxy successfully added\n",
    "requests.get('http://httpbin.org/ip',proxies={'http': 'http://203.195.175.131:8800'}).json()"
   ]
  }
 ],
 "metadata": {
  "kernelspec": {
   "display_name": "Python 3",
   "language": "python",
   "name": "python3"
  },
  "language_info": {
   "codemirror_mode": {
    "name": "ipython",
    "version": 3
   },
   "file_extension": ".py",
   "mimetype": "text/x-python",
   "name": "python",
   "nbconvert_exporter": "python",
   "pygments_lexer": "ipython3",
   "version": "3.7.2"
  }
 },
 "nbformat": 4,
 "nbformat_minor": 2
}
