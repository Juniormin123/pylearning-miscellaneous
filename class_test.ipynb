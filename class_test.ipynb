{
 "cells": [
  {
   "cell_type": "markdown",
   "metadata": {},
   "source": [
    "#### Class basic"
   ]
  },
  {
   "cell_type": "markdown",
   "metadata": {},
   "source": [
    "Reference:\n",
    "https://www.liaoxuefeng.com/wiki/0014316089557264a6b348958f449949df42a6d3a2e542c000/001431864715651c99511036d884cf1b399e65ae0d27f7e000"
   ]
  },
  {
   "cell_type": "code",
   "execution_count": null,
   "metadata": {},
   "outputs": [],
   "source": [
    "# Data encapsulation"
   ]
  },
  {
   "cell_type": "code",
   "execution_count": 7,
   "metadata": {},
   "outputs": [],
   "source": [
    "# Class attributes\n",
    "class AA1:\n",
    "    name = 'default'\n",
    "    age = 0\n",
    "    def __init__(self, code):\n",
    "        self.code = code"
   ]
  },
  {
   "cell_type": "code",
   "execution_count": 11,
   "metadata": {},
   "outputs": [
    {
     "name": "stdout",
     "output_type": "stream",
     "text": [
      "default\n",
      "0\n"
     ]
    },
    {
     "ename": "AttributeError",
     "evalue": "type object 'AA1' has no attribute 'code'",
     "output_type": "error",
     "traceback": [
      "\u001b[1;31m---------------------------------------------------------------------------\u001b[0m",
      "\u001b[1;31mAttributeError\u001b[0m                            Traceback (most recent call last)",
      "\u001b[1;32m<ipython-input-11-bbb9e5f736e0>\u001b[0m in \u001b[0;36m<module>\u001b[1;34m\u001b[0m\n\u001b[0;32m      3\u001b[0m \u001b[0mprint\u001b[0m\u001b[1;33m(\u001b[0m\u001b[0mAA1\u001b[0m\u001b[1;33m.\u001b[0m\u001b[0mage\u001b[0m\u001b[1;33m)\u001b[0m\u001b[1;33m\u001b[0m\u001b[1;33m\u001b[0m\u001b[0m\n\u001b[0;32m      4\u001b[0m \u001b[1;31m# Attributes which havn't been created cannot directly assessed from the class\u001b[0m\u001b[1;33m\u001b[0m\u001b[1;33m\u001b[0m\u001b[1;33m\u001b[0m\u001b[0m\n\u001b[1;32m----> 5\u001b[1;33m \u001b[0mprint\u001b[0m\u001b[1;33m(\u001b[0m\u001b[0mAA1\u001b[0m\u001b[1;33m.\u001b[0m\u001b[0mcode\u001b[0m\u001b[1;33m)\u001b[0m\u001b[1;33m\u001b[0m\u001b[1;33m\u001b[0m\u001b[0m\n\u001b[0m",
      "\u001b[1;31mAttributeError\u001b[0m: type object 'AA1' has no attribute 'code'"
     ]
    }
   ],
   "source": [
    "# Attributes existed can be accessed without creating an instance\n",
    "print(AA1.name)\n",
    "print(AA1.age)\n",
    "# Attributes which havn't been created cannot directly accessed from the class\n",
    "print(AA1.code)"
   ]
  },
  {
   "cell_type": "code",
   "execution_count": 12,
   "metadata": {},
   "outputs": [
    {
     "data": {
      "text/plain": [
       "'New name'"
      ]
     },
     "execution_count": 12,
     "metadata": {},
     "output_type": "execute_result"
    }
   ],
   "source": [
    "# Attributes can be reasigned\n",
    "AA1.name = 'New name'\n",
    "AA1.name"
   ]
  },
  {
   "cell_type": "code",
   "execution_count": 14,
   "metadata": {},
   "outputs": [
    {
     "data": {
      "text/plain": [
       "2"
      ]
     },
     "execution_count": 14,
     "metadata": {},
     "output_type": "execute_result"
    }
   ],
   "source": [
    "# New attributes can be added without creating instances\n",
    "AA1.code_ = 2\n",
    "AA1.code_"
   ]
  },
  {
   "cell_type": "code",
   "execution_count": 15,
   "metadata": {},
   "outputs": [
    {
     "name": "stdout",
     "output_type": "stream",
     "text": [
      "aa1\n",
      "22\n"
     ]
    }
   ],
   "source": [
    "# Prvious operations can also be used on an instance\n",
    "aa1 = AA1(11)\n",
    "\n",
    "# Change default attribute\n",
    "aa1.name = 'aa1'\n",
    "print(aa1.name)\n",
    "\n",
    "# Add new attribute\n",
    "aa1.code_ = 22\n",
    "print(aa1.code_)"
   ]
  },
  {
   "cell_type": "code",
   "execution_count": null,
   "metadata": {},
   "outputs": [],
   "source": []
  },
  {
   "cell_type": "code",
   "execution_count": 36,
   "metadata": {},
   "outputs": [],
   "source": [
    "# Hidden attributes\n",
    "class AA2:\n",
    "    # Strictly hidden\n",
    "    # attribute name will be automaticlly changed into *_ClassName__attribte*\n",
    "    __a = 'secret'\n",
    "    # Can still be accessed directly from outside but will not show in some ide\n",
    "    _a = 'cover'\n",
    "    a = 'exposed'\n",
    "    def get_hidden(self):\n",
    "        return self.__a"
   ]
  },
  {
   "cell_type": "code",
   "execution_count": 33,
   "metadata": {},
   "outputs": [
    {
     "ename": "AttributeError",
     "evalue": "type object 'AA2' has no attribute '__a'",
     "output_type": "error",
     "traceback": [
      "\u001b[1;31m---------------------------------------------------------------------------\u001b[0m",
      "\u001b[1;31mAttributeError\u001b[0m                            Traceback (most recent call last)",
      "\u001b[1;32m<ipython-input-33-74f0a04eb1bf>\u001b[0m in \u001b[0;36m<module>\u001b[1;34m\u001b[0m\n\u001b[0;32m      1\u001b[0m \u001b[1;31m# Access a strictly hidden variable will throw an AttributeError\u001b[0m\u001b[1;33m\u001b[0m\u001b[1;33m\u001b[0m\u001b[1;33m\u001b[0m\u001b[0m\n\u001b[1;32m----> 2\u001b[1;33m \u001b[0mAA2\u001b[0m\u001b[1;33m.\u001b[0m\u001b[0m__a\u001b[0m\u001b[1;33m\u001b[0m\u001b[1;33m\u001b[0m\u001b[0m\n\u001b[0m",
      "\u001b[1;31mAttributeError\u001b[0m: type object 'AA2' has no attribute '__a'"
     ]
    }
   ],
   "source": [
    "# Access a strictly hidden variable will throw an AttributeError\n",
    "AA2.__a"
   ]
  },
  {
   "cell_type": "code",
   "execution_count": 37,
   "metadata": {},
   "outputs": [
    {
     "data": {
      "text/plain": [
       "'secret'"
      ]
     },
     "execution_count": 37,
     "metadata": {},
     "output_type": "execute_result"
    }
   ],
   "source": [
    "# Use *_ClassName__attribte* to force access\n",
    "AA2._AA2__a"
   ]
  },
  {
   "cell_type": "code",
   "execution_count": 39,
   "metadata": {
    "scrolled": true
   },
   "outputs": [
    {
     "name": "stdout",
     "output_type": "stream",
     "text": [
      "5\n",
      "5\n",
      "secret\n"
     ]
    }
   ],
   "source": [
    "# Add new attribute this way won't work as the original hidden attribute has been\n",
    "# renamed as *_ClassName__attribute*\n",
    "aa2 = AA2()\n",
    "AA2.__a = 5\n",
    "print(AA2.__a)\n",
    "print(aa2.__a)\n",
    "print(aa2.get_hidden())"
   ]
  },
  {
   "cell_type": "code",
   "execution_count": 53,
   "metadata": {},
   "outputs": [],
   "source": [
    "import re\n",
    "def filter_(s):\n",
    "    if re.match(r'^__.*__$', s):\n",
    "        return False\n",
    "    else:\n",
    "        return True"
   ]
  },
  {
   "cell_type": "code",
   "execution_count": 54,
   "metadata": {},
   "outputs": [
    {
     "data": {
      "text/plain": [
       "['_AA2__a', '__a', '_a', 'a', 'get_hidden']"
      ]
     },
     "execution_count": 54,
     "metadata": {},
     "output_type": "execute_result"
    }
   ],
   "source": [
    "# _AA2__a is the original __a, \n",
    "# the __a is added outside the class definition, different from the original one\n",
    "list(filter(filter_, dir(aa2)))"
   ]
  },
  {
   "cell_type": "code",
   "execution_count": null,
   "metadata": {},
   "outputs": [],
   "source": []
  },
  {
   "cell_type": "code",
   "execution_count": null,
   "metadata": {},
   "outputs": [],
   "source": [
    "# Hidden attribute in inheritance"
   ]
  },
  {
   "cell_type": "code",
   "execution_count": 62,
   "metadata": {},
   "outputs": [],
   "source": [
    "# Inheritate a class with hidden and covered attributes\n",
    "class AA3(AA2):\n",
    "    # One way to explictly access class name\n",
    "    __aa3 = '{:} secret'.format(AA3.__name__)"
   ]
  },
  {
   "cell_type": "code",
   "execution_count": 64,
   "metadata": {},
   "outputs": [
    {
     "data": {
      "text/plain": [
       "['_AA2__a', '_AA3__aa3', '__a', '_a', 'a', 'get_hidden']"
      ]
     },
     "execution_count": 64,
     "metadata": {},
     "output_type": "execute_result"
    }
   ],
   "source": [
    "# The hidden attribute is renamed with the parent class name\n",
    "# covered attribute can be used directly;\n",
    "# the added attribute __a works as a normal attribute can be inheritated\n",
    "# directly and accessed by the sub class\n",
    "\n",
    "list(filter(filter_, dir(AA3)))"
   ]
  },
  {
   "cell_type": "code",
   "execution_count": 65,
   "metadata": {},
   "outputs": [
    {
     "data": {
      "text/plain": [
       "'AA3 secret'"
      ]
     },
     "execution_count": 65,
     "metadata": {},
     "output_type": "execute_result"
    }
   ],
   "source": [
    "AA3._AA3__aa3"
   ]
  },
  {
   "cell_type": "code",
   "execution_count": null,
   "metadata": {},
   "outputs": [],
   "source": []
  },
  {
   "cell_type": "code",
   "execution_count": 143,
   "metadata": {},
   "outputs": [
    {
     "name": "stdout",
     "output_type": "stream",
     "text": [
      "0\n",
      "0\n"
     ]
    }
   ],
   "source": [
    "# Class attribute and instance attribute\n",
    "\n",
    "aa1_1 = AA1(1)\n",
    "aa1_2 = AA1(2)\n",
    "\n",
    "# Class attribute can be accessed by all class instances\n",
    "print(aa1_1.age)\n",
    "print(aa1_2.age)"
   ]
  },
  {
   "cell_type": "code",
   "execution_count": 145,
   "metadata": {},
   "outputs": [
    {
     "name": "stdout",
     "output_type": "stream",
     "text": [
      "11\n",
      "0\n"
     ]
    }
   ],
   "source": [
    "# Assign an attribute to an instance, same name as a class attribute,\n",
    "# will only affect the instance itself\n",
    "aa1_1.age = 11\n",
    "\n",
    "# The class attribute with same name is covered\n",
    "print(aa1_1.age)\n",
    "\n",
    "# Other instance's class attribute will not be affected\n",
    "print(aa1_2.age)"
   ]
  },
  {
   "cell_type": "code",
   "execution_count": 146,
   "metadata": {},
   "outputs": [
    {
     "data": {
      "text/plain": [
       "0"
      ]
     },
     "execution_count": 146,
     "metadata": {},
     "output_type": "execute_result"
    }
   ],
   "source": [
    "# Delete the added attribute, the class attribute is revealed again\n",
    "del aa1_1.age\n",
    "aa1_1.age\n",
    "\n",
    "\n",
    "# Summary: Do not use class attribute name in an instance"
   ]
  },
  {
   "cell_type": "code",
   "execution_count": null,
   "metadata": {},
   "outputs": [],
   "source": []
  },
  {
   "cell_type": "code",
   "execution_count": null,
   "metadata": {},
   "outputs": [],
   "source": []
  },
  {
   "cell_type": "code",
   "execution_count": null,
   "metadata": {},
   "outputs": [],
   "source": []
  },
  {
   "cell_type": "markdown",
   "metadata": {},
   "source": [
    "#### Class inheritance and type basic"
   ]
  },
  {
   "cell_type": "code",
   "execution_count": 69,
   "metadata": {},
   "outputs": [],
   "source": [
    "class BB1:\n",
    "    name = 'top class'\n",
    "    _cover = 'covered message'\n",
    "    __hidden = 'hidden message'\n",
    "    \n",
    "    def get_name(self):\n",
    "        return self.name\n",
    "    \n",
    "    def get_cover():\n",
    "        pass\n",
    "\n",
    "# Inheritate the super class\n",
    "class BB2(BB1):\n",
    "    name = 'second class'\n",
    "    \n",
    "    # Overwrite parent class method\n",
    "    def get_cover(self):\n",
    "        return self._cover"
   ]
  },
  {
   "cell_type": "code",
   "execution_count": 70,
   "metadata": {},
   "outputs": [
    {
     "name": "stdout",
     "output_type": "stream",
     "text": [
      "second class\n",
      "covered message\n"
     ]
    }
   ],
   "source": [
    "# A class is a data type, like list, str or dict\n",
    "# Define a class is defining a new data type and its methods\n",
    "\n",
    "bb2 = BB2()\n",
    "print(bb2.get_name())\n",
    "print(bb2.get_cover())"
   ]
  },
  {
   "cell_type": "code",
   "execution_count": null,
   "metadata": {},
   "outputs": [],
   "source": []
  },
  {
   "cell_type": "code",
   "execution_count": 78,
   "metadata": {},
   "outputs": [],
   "source": [
    "class ZZZ:\n",
    "    name = 'Not inheritated'\n",
    "    \n",
    "    def get_name(self):\n",
    "        return self.name"
   ]
  },
  {
   "cell_type": "code",
   "execution_count": 79,
   "metadata": {},
   "outputs": [],
   "source": [
    "# \"duck type\" for dynamic programming language\n",
    "\n",
    "# No need to condsier inheritation, any obj that has the designated method can\n",
    "# be executed, e.g in the name() function any passed-in parameters that has\n",
    "# a get_name() method can be return, don't need to inheritated from BB1\n",
    "\n",
    "# *file-like* object is a builtin \"duck type\", anything with a read() method \n",
    "# can be file-like object, no need to be a file\n",
    "\n",
    "def name(obj):\n",
    "    return obj.get_name()"
   ]
  },
  {
   "cell_type": "code",
   "execution_count": 80,
   "metadata": {},
   "outputs": [
    {
     "name": "stdout",
     "output_type": "stream",
     "text": [
      "top class\n",
      "second class\n",
      "Not inheritated\n"
     ]
    }
   ],
   "source": [
    "bb1 = BB1()\n",
    "bb2 = BB2()\n",
    "zzz = ZZZ()\n",
    "\n",
    "print(name(bb1))\n",
    "print(name(bb2))\n",
    "print(name(zzz))"
   ]
  },
  {
   "cell_type": "code",
   "execution_count": null,
   "metadata": {},
   "outputs": [],
   "source": []
  },
  {
   "cell_type": "code",
   "execution_count": 81,
   "metadata": {},
   "outputs": [],
   "source": [
    "# object type"
   ]
  },
  {
   "cell_type": "code",
   "execution_count": 93,
   "metadata": {},
   "outputs": [],
   "source": [
    "# More types can be found in module types\n",
    "import types"
   ]
  },
  {
   "cell_type": "code",
   "execution_count": 95,
   "metadata": {
    "scrolled": false
   },
   "outputs": [
    {
     "data": {
      "text/plain": [
       "True"
      ]
     },
     "execution_count": 95,
     "metadata": {},
     "output_type": "execute_result"
    }
   ],
   "source": [
    "type(name) == types.FunctionType"
   ]
  },
  {
   "cell_type": "code",
   "execution_count": 96,
   "metadata": {},
   "outputs": [
    {
     "data": {
      "text/plain": [
       "True"
      ]
     },
     "execution_count": 96,
     "metadata": {},
     "output_type": "execute_result"
    }
   ],
   "source": [
    "type(abs) == types.BuiltinFunctionType"
   ]
  },
  {
   "cell_type": "code",
   "execution_count": 97,
   "metadata": {},
   "outputs": [
    {
     "data": {
      "text/plain": [
       "True"
      ]
     },
     "execution_count": 97,
     "metadata": {},
     "output_type": "execute_result"
    }
   ],
   "source": [
    "type(lambda x: x) == types.LambdaType"
   ]
  },
  {
   "cell_type": "code",
   "execution_count": 98,
   "metadata": {},
   "outputs": [
    {
     "data": {
      "text/plain": [
       "True"
      ]
     },
     "execution_count": 98,
     "metadata": {},
     "output_type": "execute_result"
    }
   ],
   "source": [
    "type((x for x in range(10))) == types.GeneratorType"
   ]
  },
  {
   "cell_type": "code",
   "execution_count": null,
   "metadata": {},
   "outputs": [],
   "source": []
  },
  {
   "cell_type": "code",
   "execution_count": 99,
   "metadata": {},
   "outputs": [],
   "source": [
    "# isinstance(obj, class_or_tuple)"
   ]
  },
  {
   "cell_type": "code",
   "execution_count": null,
   "metadata": {},
   "outputs": [],
   "source": [
    "# isinstance will return true if obj is the class's sub class"
   ]
  },
  {
   "cell_type": "code",
   "execution_count": 101,
   "metadata": {},
   "outputs": [
    {
     "data": {
      "text/plain": [
       "True"
      ]
     },
     "execution_count": 101,
     "metadata": {},
     "output_type": "execute_result"
    }
   ],
   "source": [
    "# instance return True\n",
    "isinstance(bb2, BB1)"
   ]
  },
  {
   "cell_type": "code",
   "execution_count": 102,
   "metadata": {},
   "outputs": [
    {
     "data": {
      "text/plain": [
       "False"
      ]
     },
     "execution_count": 102,
     "metadata": {},
     "output_type": "execute_result"
    }
   ],
   "source": [
    "# class name will return false\n",
    "isinstance(BB2, BB1)"
   ]
  },
  {
   "cell_type": "code",
   "execution_count": 104,
   "metadata": {
    "scrolled": true
   },
   "outputs": [
    {
     "data": {
      "text/plain": [
       "False"
      ]
     },
     "execution_count": 104,
     "metadata": {},
     "output_type": "execute_result"
    }
   ],
   "source": [
    "isinstance(BB1, BB2)"
   ]
  },
  {
   "cell_type": "code",
   "execution_count": null,
   "metadata": {},
   "outputs": [],
   "source": []
  },
  {
   "cell_type": "code",
   "execution_count": null,
   "metadata": {},
   "outputs": [],
   "source": []
  },
  {
   "cell_type": "markdown",
   "metadata": {},
   "source": [
    "#### Overwrite `__xxx__` special method"
   ]
  },
  {
   "cell_type": "code",
   "execution_count": null,
   "metadata": {},
   "outputs": [],
   "source": [
    "# mehtod like __len__, __add__, ..."
   ]
  },
  {
   "cell_type": "code",
   "execution_count": 116,
   "metadata": {},
   "outputs": [],
   "source": [
    "class BB3:\n",
    "    \n",
    "    def __init__(self, name):\n",
    "        self.name = name\n",
    "    \n",
    "    # Overwrite add to enable instances to use + \n",
    "    def __add__(self, BB3_class):\n",
    "        return self.name + '+' + BB3_class.name\n",
    "    \n",
    "    # define radd to enable adding from each side\n",
    "    def __radd__(self, BB3_class):\n",
    "        return self.name + '+' + BB3_class.name\n",
    "    \n",
    "    # define len to correctly use len() for instance\n",
    "    def __len__(self):\n",
    "        return len(self.name)\n",
    "    "
   ]
  },
  {
   "cell_type": "code",
   "execution_count": 117,
   "metadata": {},
   "outputs": [],
   "source": [
    "bb3_1 = BB3('first')\n",
    "bb3_2 = BB3('second')"
   ]
  },
  {
   "cell_type": "code",
   "execution_count": 118,
   "metadata": {},
   "outputs": [
    {
     "data": {
      "text/plain": [
       "'second+first'"
      ]
     },
     "execution_count": 118,
     "metadata": {},
     "output_type": "execute_result"
    }
   ],
   "source": [
    "bb3_2 + bb3_1"
   ]
  },
  {
   "cell_type": "code",
   "execution_count": 119,
   "metadata": {},
   "outputs": [
    {
     "data": {
      "text/plain": [
       "5"
      ]
     },
     "execution_count": 119,
     "metadata": {},
     "output_type": "execute_result"
    }
   ],
   "source": [
    "len(bb3_1)"
   ]
  },
  {
   "cell_type": "code",
   "execution_count": null,
   "metadata": {},
   "outputs": [],
   "source": []
  },
  {
   "cell_type": "code",
   "execution_count": 120,
   "metadata": {},
   "outputs": [],
   "source": [
    "# getattr(), setattr(), hasattr()"
   ]
  },
  {
   "cell_type": "code",
   "execution_count": 125,
   "metadata": {},
   "outputs": [
    {
     "name": "stdout",
     "output_type": "stream",
     "text": [
      "first\n",
      "first\n"
     ]
    }
   ],
   "source": [
    "# Get attribute from an object, the same as obj.attr\n",
    "print(getattr(bb3_1, 'name'))\n",
    "print(bb3_1.name)"
   ]
  },
  {
   "cell_type": "code",
   "execution_count": 132,
   "metadata": {},
   "outputs": [
    {
     "data": {
      "text/plain": [
       "'no such thing'"
      ]
     },
     "execution_count": 132,
     "metadata": {},
     "output_type": "execute_result"
    }
   ],
   "source": [
    "# Default value for getattr()\n",
    "getattr(bb3_1, 'thing', 'no such thing')"
   ]
  },
  {
   "cell_type": "code",
   "execution_count": 127,
   "metadata": {},
   "outputs": [
    {
     "name": "stdout",
     "output_type": "stream",
     "text": [
      "False\n",
      "True\n"
     ]
    }
   ],
   "source": [
    "# Determine if an object has an attribute or method or not\n",
    "print(hasattr(BB3, 'name'))\n",
    "print(hasattr(BB3, '__add__'))"
   ]
  },
  {
   "cell_type": "code",
   "execution_count": 131,
   "metadata": {},
   "outputs": [
    {
     "name": "stdout",
     "output_type": "stream",
     "text": [
      "second name\n",
      "second name\n"
     ]
    }
   ],
   "source": [
    "# Set an attribute\n",
    "setattr(bb3_1, 'name2', 'second name')\n",
    "print(bb3_1.name2)\n",
    "print(getattr(bb3_1, 'name2'))"
   ]
  },
  {
   "cell_type": "code",
   "execution_count": 136,
   "metadata": {},
   "outputs": [],
   "source": [
    "# example for attribute related builtin method\n",
    "\n",
    "# Use hasattr to determine if an object has a certain method\n",
    "# then take action accordingly\n",
    "\n",
    "def get_len(obj):\n",
    "    if hasattr(obj, '__len__'):\n",
    "        return len(obj)\n",
    "    return 'No length'"
   ]
  },
  {
   "cell_type": "code",
   "execution_count": 135,
   "metadata": {},
   "outputs": [
    {
     "data": {
      "text/plain": [
       "5"
      ]
     },
     "execution_count": 135,
     "metadata": {},
     "output_type": "execute_result"
    }
   ],
   "source": [
    "get_len(bb3_1)"
   ]
  },
  {
   "cell_type": "code",
   "execution_count": 137,
   "metadata": {},
   "outputs": [
    {
     "data": {
      "text/plain": [
       "'No length'"
      ]
     },
     "execution_count": 137,
     "metadata": {},
     "output_type": "execute_result"
    }
   ],
   "source": [
    "get_len(2)"
   ]
  },
  {
   "cell_type": "code",
   "execution_count": null,
   "metadata": {},
   "outputs": [],
   "source": []
  },
  {
   "cell_type": "code",
   "execution_count": null,
   "metadata": {},
   "outputs": [],
   "source": []
  },
  {
   "cell_type": "markdown",
   "metadata": {},
   "source": [
    "#### Class inheritance addition"
   ]
  },
  {
   "cell_type": "code",
   "execution_count": 1,
   "metadata": {},
   "outputs": [],
   "source": [
    "class A1:\n",
    "    # Parent class\n",
    "    def __init__(self, a, b, c):\n",
    "        print('A1 init')\n",
    "        self.a = a\n",
    "        self.b = b\n",
    "        self.d = 90\n",
    "        \n",
    "        self.__ac = c\n",
    "        \n",
    "    def void(self):\n",
    "        return\n",
    "    \n",
    "    def tangible(self):\n",
    "        return self.void()\n",
    "    \n",
    "    def tangible2(self):\n",
    "        return self.tangible()"
   ]
  },
  {
   "cell_type": "code",
   "execution_count": 2,
   "metadata": {},
   "outputs": [],
   "source": [
    "class B1(A1):\n",
    "    # first level sub class\n",
    "    def __init__(self, a, b, c):\n",
    "        print('B1 init')\n",
    "        # call the parent class's init method, can use super() instead\n",
    "        # super(B1, self).__init__(a, b), or \n",
    "        # super().__init__(a, b)\n",
    "        super().__init__(a, b, c)\n",
    "        # Strongly hidden from outside, cannot be inherited by sub class\n",
    "        self.__c = c\n",
    "        # Hidden from outside\n",
    "        self._cc = c * c\n",
    "        \n",
    "    def void(self):\n",
    "        return self.a + self.b + self.c\n",
    "    \n",
    "    def method1(self, x):\n",
    "        return self.__c + x\n",
    "    \n",
    "    # Property method, can call like an attribute\n",
    "    @property\n",
    "    def c(self):\n",
    "        return self.__c\n",
    "    \n",
    "    # Property setter, define method to set the property, specify the property name defined\n",
    "    # under @property\n",
    "    @c.setter\n",
    "    def c(self, c_new):\n",
    "        self.__c = c_new\n",
    "        \n",
    "    # Property deleter, define method to delete the property, call \"del instance.c\"\n",
    "    @c.deleter\n",
    "    def c(self):\n",
    "        raise TypeError('Cannot delete an attribute.')\n",
    "    \n",
    "    # Static method, can call without create an instance, like pd.DataFrame()\n",
    "    @staticmethod\n",
    "    def static(x):\n",
    "        print('A static method, {:}'.format(x))\n",
    "    \n",
    "    # Class method, use class itself (not instance) as a parameter\n",
    "    @classmethod\n",
    "    def class_method(cls, x):\n",
    "        print('A classmethod, class name: {}, params: {}'.format(cls.__name__, x))\n",
    "    \n",
    "    @classmethod\n",
    "    def sub_method(cls):\n",
    "        print('From B1')\n",
    "        print('Method of {}'.format(cls.__name__))"
   ]
  },
  {
   "cell_type": "code",
   "execution_count": 12,
   "metadata": {},
   "outputs": [],
   "source": [
    "class B2(A1):\n",
    "    \n",
    "    def __init__(self, a, b, c):\n",
    "        print('B2 init')\n",
    "        super().__init__(a, b, c)\n",
    "        self._b2 = a + b\n",
    "        \n",
    "    @classmethod\n",
    "    def sub_method(cls):\n",
    "        print('From B2')\n",
    "        print('Method of {}'.format(cls.__name__))"
   ]
  },
  {
   "cell_type": "code",
   "execution_count": 44,
   "metadata": {},
   "outputs": [],
   "source": [
    "# For multi inheritation, with overwritten init function.\n",
    "class C2_1(B1, B2):\n",
    "    \n",
    "    # cannot set default super_class=C2, as C2 in the parameter haven't been defined yet\n",
    "    def __init__(self, a, b, c, super_class):\n",
    "        print('C2_1 init')\n",
    "        \n",
    "        # Test for super() method\n",
    "        super(super_class, self).__init__(a, b, c)"
   ]
  },
  {
   "cell_type": "code",
   "execution_count": 40,
   "metadata": {},
   "outputs": [],
   "source": [
    "# For multi inheritation, without overwritten init function.\n",
    "class C2_2(B1, B2):\n",
    "    pass"
   ]
  },
  {
   "cell_type": "code",
   "execution_count": null,
   "metadata": {},
   "outputs": [],
   "source": []
  },
  {
   "cell_type": "code",
   "execution_count": null,
   "metadata": {},
   "outputs": [],
   "source": [
    "# Mixin class and method"
   ]
  },
  {
   "cell_type": "code",
   "execution_count": 5,
   "metadata": {},
   "outputs": [],
   "source": [
    "# For mixin method\n",
    "class C1:\n",
    "    def __init__(self, c1, c2):\n",
    "        print('C1 init')\n",
    "        self.c1 = c1\n",
    "        self.__c2 = c2\n",
    "    \n",
    "    @property\n",
    "    def c2(self):\n",
    "        return self.__c2"
   ]
  },
  {
   "cell_type": "code",
   "execution_count": 6,
   "metadata": {},
   "outputs": [],
   "source": [
    "# Use mixin method\n",
    "class BC(C1, B1):\n",
    "    # second level subclass, mixin another parent class C1\n",
    "    def __init__(self, a, b, c, c1, c2):\n",
    "        print('BC init')\n",
    "        # Initialize multiple parent class, explicitly call the parent classes' init functions\n",
    "        C1.__init__(self, c1, c2)\n",
    "        B1.__init__(self, a, b, c)\n",
    "        "
   ]
  },
  {
   "cell_type": "code",
   "execution_count": null,
   "metadata": {},
   "outputs": [],
   "source": []
  },
  {
   "cell_type": "code",
   "execution_count": 7,
   "metadata": {},
   "outputs": [],
   "source": [
    "# MRO"
   ]
  },
  {
   "cell_type": "code",
   "execution_count": 88,
   "metadata": {
    "scrolled": true
   },
   "outputs": [
    {
     "data": {
      "text/plain": [
       "[__main__.C2_1, __main__.B1, __main__.B2, __main__.A1, object]"
      ]
     },
     "execution_count": 88,
     "metadata": {},
     "output_type": "execute_result"
    }
   ],
   "source": [
    "# To see the MRO result, call the class name, not the instance name\n",
    "# C2_1.__mro__, or\n",
    "C2_1.mro()"
   ]
  },
  {
   "cell_type": "code",
   "execution_count": 64,
   "metadata": {},
   "outputs": [
    {
     "name": "stdout",
     "output_type": "stream",
     "text": [
      "super_class: <class '__main__.C2_1'>\n",
      "C2_1 init\n",
      "B1 init\n",
      "B2 init\n",
      "A1 init\n",
      "super_class: <class '__main__.B1'>\n",
      "C2_1 init\n",
      "B2 init\n",
      "A1 init\n",
      "super_class: <class '__main__.B2'>\n",
      "C2_1 init\n",
      "A1 init\n"
     ]
    }
   ],
   "source": [
    "# super().method() will search method starting from the closest parent class, and use\n",
    "# the first encoutered method\n",
    "\n",
    "\n",
    "# super() in MRO: super will search parent class method in the order provided by MRO\n",
    "# e.g. MRO is C2, B1, B2, A1, \n",
    "# super() in C2, or super(C2, self).method() will search from B1;\n",
    "# super(B1, self).method() will search from B2;\n",
    "# super(B2, self).method() will search from A1.\n",
    "\n",
    "# For __init__(), will have chained init method through the order from MRO, \n",
    "# e.g. super(B1, self).__init__(a, b, c) will use the init method in B2\n",
    "\n",
    "# Examples about the affects of different super class parameters\n",
    "sc = None\n",
    "sc_list = [C2_1, B1, B2]\n",
    "params = [2, 3, 4, sc]\n",
    "C2_1_container = []\n",
    "\n",
    "for class_ in sc_list:\n",
    "    params[-1] = class_\n",
    "    print('super_class: {:}'.format(class_))\n",
    "    # use * to unpack a sequence, refer to function_test\n",
    "    C2_1_container.append(C2_1(*params))"
   ]
  },
  {
   "cell_type": "code",
   "execution_count": 83,
   "metadata": {},
   "outputs": [
    {
     "name": "stdout",
     "output_type": "stream",
     "text": [
      "B1 init\n",
      "B2 init\n",
      "A1 init\n"
     ]
    }
   ],
   "source": [
    "# Sub class without an init method, will use the init method from parent\n",
    "# class, according to order from MRO\n",
    "c2_2 = C2_2(7, 8, 9)"
   ]
  },
  {
   "cell_type": "code",
   "execution_count": 46,
   "metadata": {
    "scrolled": true
   },
   "outputs": [
    {
     "name": "stdout",
     "output_type": "stream",
     "text": [
      "From B1\n",
      "Method of C2_1\n"
     ]
    }
   ],
   "source": [
    "# Inherit from B1, according to MRO, search for and use the first encountered parent method.\n",
    "c2_1.sub_method()"
   ]
  },
  {
   "cell_type": "code",
   "execution_count": null,
   "metadata": {},
   "outputs": [],
   "source": [
    "# MRO reference\n",
    "# from http://www.runoob.com/w3cnote/python-super-detail-intro.html"
   ]
  },
  {
   "cell_type": "code",
   "execution_count": 90,
   "metadata": {},
   "outputs": [
    {
     "name": "stdout",
     "output_type": "stream",
     "text": [
      "self is <__main__.D object at 0x0000026FC73FD240> @D.add\n",
      "self is <__main__.D object at 0x0000026FC73FD240> @B.add\n",
      "self is <__main__.D object at 0x0000026FC73FD240> @C.add\n",
      "self is <__main__.D object at 0x0000026FC73FD240> @A.add\n",
      "19\n"
     ]
    }
   ],
   "source": [
    "class A:\n",
    "    def __init__(self):\n",
    "        self.n = 2\n",
    "\n",
    "    def add(self, m):\n",
    "        # 第四步\n",
    "        # 来自 D.add 中的 super\n",
    "        # self == d, self.n == d.n == 5\n",
    "        print('self is {0} @A.add'.format(self))\n",
    "        self.n += m\n",
    "        # d.n == 7\n",
    "\n",
    "\n",
    "class B(A):\n",
    "    def __init__(self):\n",
    "        self.n = 3\n",
    "\n",
    "    def add(self, m):\n",
    "        # 第二步\n",
    "        # 来自 D.add 中的 super\n",
    "        # self == d, self.n == d.n == 5\n",
    "        print('self is {0} @B.add'.format(self))\n",
    "        # 等价于 suepr(B, self).add(m)\n",
    "        # self 的 MRO 是 [D, B, C, A, object]\n",
    "        # 从 B 之后的 [C, A, object] 中查找 add 方法\n",
    "        super().add(m)\n",
    "\n",
    "        # 第六步\n",
    "        # d.n = 11\n",
    "        self.n += 3\n",
    "        # d.n = 14\n",
    "\n",
    "class C(A):\n",
    "    def __init__(self):\n",
    "        self.n = 4\n",
    "\n",
    "    def add(self, m):\n",
    "        # 第三步\n",
    "        # 来自 B.add 中的 super\n",
    "        # self == d, self.n == d.n == 5\n",
    "        print('self is {0} @C.add'.format(self))\n",
    "        # 等价于 suepr(C, self).add(m)\n",
    "        # self 的 MRO 是 [D, B, C, A, object]\n",
    "        # 从 C 之后的 [A, object] 中查找 add 方法\n",
    "        super().add(m)\n",
    "\n",
    "        # 第五步\n",
    "        # d.n = 7\n",
    "        self.n += 4\n",
    "        # d.n = 11\n",
    "\n",
    "\n",
    "class D(B, C):\n",
    "    def __init__(self):\n",
    "        self.n = 5\n",
    "\n",
    "    def add(self, m):\n",
    "        # 第一步\n",
    "        print('self is {0} @D.add'.format(self))\n",
    "        # 等价于 super(D, self).add(m)\n",
    "        # self 的 MRO 是 [D, B, C, A, object]\n",
    "        # 从 D 之后的 [B, C, A, object] 中查找 add 方法\n",
    "        super().add(m)\n",
    "\n",
    "        # 第七步\n",
    "        # d.n = 14\n",
    "        self.n += 5\n",
    "        # self.n = 19\n",
    "\n",
    "d = D()\n",
    "d.add(2)\n",
    "print(d.n)"
   ]
  },
  {
   "cell_type": "code",
   "execution_count": null,
   "metadata": {},
   "outputs": [],
   "source": []
  },
  {
   "cell_type": "code",
   "execution_count": null,
   "metadata": {},
   "outputs": [],
   "source": []
  }
 ],
 "metadata": {
  "kernelspec": {
   "display_name": "Python 3",
   "language": "python",
   "name": "python3"
  },
  "language_info": {
   "codemirror_mode": {
    "name": "ipython",
    "version": 3
   },
   "file_extension": ".py",
   "mimetype": "text/x-python",
   "name": "python",
   "nbconvert_exporter": "python",
   "pygments_lexer": "ipython3",
   "version": "3.7.2"
  },
  "toc": {
   "base_numbering": 1,
   "nav_menu": {},
   "number_sections": false,
   "sideBar": true,
   "skip_h1_title": false,
   "title_cell": "Table of Contents",
   "title_sidebar": "Contents",
   "toc_cell": false,
   "toc_position": {
    "height": "calc(100% - 180px)",
    "left": "10px",
    "top": "150px",
    "width": "354px"
   },
   "toc_section_display": true,
   "toc_window_display": true
  },
  "varInspector": {
   "cols": {
    "lenName": 16,
    "lenType": 16,
    "lenVar": 40
   },
   "kernels_config": {
    "python": {
     "delete_cmd_postfix": "",
     "delete_cmd_prefix": "del ",
     "library": "var_list.py",
     "varRefreshCmd": "print(var_dic_list())"
    },
    "r": {
     "delete_cmd_postfix": ") ",
     "delete_cmd_prefix": "rm(",
     "library": "var_list.r",
     "varRefreshCmd": "cat(var_dic_list()) "
    }
   },
   "types_to_exclude": [
    "module",
    "function",
    "builtin_function_or_method",
    "instance",
    "_Feature"
   ],
   "window_display": false
  }
 },
 "nbformat": 4,
 "nbformat_minor": 2
}
