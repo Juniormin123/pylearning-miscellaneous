{
 "cells": [
  {
   "cell_type": "markdown",
   "metadata": {},
   "source": [
    "#### Class"
   ]
  },
  {
   "cell_type": "code",
   "execution_count": 1,
   "metadata": {},
   "outputs": [],
   "source": [
    "class A1:\n",
    "    # Parent class\n",
    "    def __init__(self, a, b, c):\n",
    "        print('A1 init')\n",
    "        self.a = a\n",
    "        self.b = b\n",
    "        self.d = 90\n",
    "        \n",
    "        self.__ac = c\n",
    "        \n",
    "    def void(self):\n",
    "        return\n",
    "    \n",
    "    def tangible(self):\n",
    "        return self.void()\n",
    "    \n",
    "    def tangible2(self):\n",
    "        return self.tangible()"
   ]
  },
  {
   "cell_type": "code",
   "execution_count": 2,
   "metadata": {},
   "outputs": [],
   "source": [
    "class B1(A1):\n",
    "    # first level sub class\n",
    "    def __init__(self, a, b, c):\n",
    "        print('B1 init')\n",
    "        # call the parent class's init method, can use super() instead\n",
    "        # super(B1, self).__init__(a, b), or \n",
    "        # super().__init__(a, b)\n",
    "        super().__init__(a, b, c)\n",
    "        # Strongly hidden from outside, cannot be inherited by sub class\n",
    "        self.__c = c\n",
    "        # Hidden from outside\n",
    "        self._cc = c * c\n",
    "        \n",
    "    def void(self):\n",
    "        return self.a + self.b + self.c\n",
    "    \n",
    "    def method1(self, x):\n",
    "        return self.__c + x\n",
    "    \n",
    "    # Property method, can call like an attribute\n",
    "    @property\n",
    "    def c(self):\n",
    "        return self.__c\n",
    "    \n",
    "    # Property setter, define method to set the property, specify the property name defined\n",
    "    # under @property\n",
    "    @c.setter\n",
    "    def c(self, c_new):\n",
    "        self.__c = c_new\n",
    "        \n",
    "    # Property deleter, define method to delete the property, call \"del instance.c\"\n",
    "    @c.deleter\n",
    "    def c(self):\n",
    "        raise TypeError('Cannot delete an attribute.')\n",
    "    \n",
    "    # Static method, can call without create an instance, like pd.DataFrame()\n",
    "    @staticmethod\n",
    "    def static(x):\n",
    "        print('A static method, {:}'.format(x))\n",
    "    \n",
    "    # Class method, use class itself (not instance) as a parameter\n",
    "    @classmethod\n",
    "    def class_method(cls, x):\n",
    "        print('A classmethod, class name: {}, params: {}'.format(cls.__name__, x))\n",
    "    \n",
    "    @classmethod\n",
    "    def sub_method(cls):\n",
    "        print('From B1')\n",
    "        print('Method of {}'.format(cls.__name__))"
   ]
  },
  {
   "cell_type": "code",
   "execution_count": 12,
   "metadata": {},
   "outputs": [],
   "source": [
    "class B2(A1):\n",
    "    \n",
    "    def __init__(self, a, b, c):\n",
    "        print('B2 init')\n",
    "        super().__init__(a, b, c)\n",
    "        self._b2 = a + b\n",
    "        \n",
    "    @classmethod\n",
    "    def sub_method(cls):\n",
    "        print('From B2')\n",
    "        print('Method of {}'.format(cls.__name__))"
   ]
  },
  {
   "cell_type": "code",
   "execution_count": 44,
   "metadata": {},
   "outputs": [],
   "source": [
    "# For multi inheritation, with overwritten init function.\n",
    "class C2_1(B1, B2):\n",
    "    \n",
    "    # cannot set default super_class=C2, as C2 in the parameter haven't been defined yet\n",
    "    def __init__(self, a, b, c, super_class):\n",
    "        print('C2_1 init')\n",
    "        \n",
    "        # Test for super() method\n",
    "        super(super_class, self).__init__(a, b, c)"
   ]
  },
  {
   "cell_type": "code",
   "execution_count": 40,
   "metadata": {},
   "outputs": [],
   "source": [
    "# For multi inheritation, without overwritten init function.\n",
    "class C2_2(B1, B2):\n",
    "    pass"
   ]
  },
  {
   "cell_type": "code",
   "execution_count": null,
   "metadata": {},
   "outputs": [],
   "source": []
  },
  {
   "cell_type": "code",
   "execution_count": null,
   "metadata": {},
   "outputs": [],
   "source": [
    "# Mixin class and method"
   ]
  },
  {
   "cell_type": "code",
   "execution_count": 5,
   "metadata": {},
   "outputs": [],
   "source": [
    "# For mixin method\n",
    "class C1:\n",
    "    def __init__(self, c1, c2):\n",
    "        print('C1 init')\n",
    "        self.c1 = c1\n",
    "        self.__c2 = c2\n",
    "    \n",
    "    @property\n",
    "    def c2(self):\n",
    "        return self.__c2"
   ]
  },
  {
   "cell_type": "code",
   "execution_count": 6,
   "metadata": {},
   "outputs": [],
   "source": [
    "# Use mixin method\n",
    "class BC(C1, B1):\n",
    "    # second level subclass, mixin another parent class C1\n",
    "    def __init__(self, a, b, c, c1, c2):\n",
    "        print('BC init')\n",
    "        # Initialize multiple parent class, explicitly call the parent classes' init functions\n",
    "        C1.__init__(self, c1, c2)\n",
    "        B1.__init__(self, a, b, c)\n",
    "        "
   ]
  },
  {
   "cell_type": "code",
   "execution_count": null,
   "metadata": {},
   "outputs": [],
   "source": []
  },
  {
   "cell_type": "code",
   "execution_count": 7,
   "metadata": {},
   "outputs": [],
   "source": [
    "# MRO"
   ]
  },
  {
   "cell_type": "code",
   "execution_count": 88,
   "metadata": {
    "scrolled": true
   },
   "outputs": [
    {
     "data": {
      "text/plain": [
       "[__main__.C2_1, __main__.B1, __main__.B2, __main__.A1, object]"
      ]
     },
     "execution_count": 88,
     "metadata": {},
     "output_type": "execute_result"
    }
   ],
   "source": [
    "# To see the MRO result, call the class name, not the instance name\n",
    "# C2_1.__mro__, or\n",
    "C2_1.mro()"
   ]
  },
  {
   "cell_type": "code",
   "execution_count": 64,
   "metadata": {},
   "outputs": [
    {
     "name": "stdout",
     "output_type": "stream",
     "text": [
      "super_class: <class '__main__.C2_1'>\n",
      "C2_1 init\n",
      "B1 init\n",
      "B2 init\n",
      "A1 init\n",
      "super_class: <class '__main__.B1'>\n",
      "C2_1 init\n",
      "B2 init\n",
      "A1 init\n",
      "super_class: <class '__main__.B2'>\n",
      "C2_1 init\n",
      "A1 init\n"
     ]
    }
   ],
   "source": [
    "# super() in MRO: super will search parent class method in the order provided by MRO\n",
    "# e.g. MRO is C2, B1, B2, A1, \n",
    "# super() in C2, or super(C2, self).method() will search in B1;\n",
    "# super(B1, self).method() will search in B2;\n",
    "# super(B2, self).method() will search in A1.\n",
    "\n",
    "# For __init__(), will have chained init method through the order from MRO, \n",
    "# e.g. super(B1, self).__init__(a, b, c) will use the init method in B2\n",
    "\n",
    "# Examples about the affects of different super class parameters\n",
    "sc = None\n",
    "sc_list = [C2_1, B1, B2]\n",
    "params = [2, 3, 4, sc]\n",
    "C2_1_container = []\n",
    "\n",
    "for class_ in sc_list:\n",
    "    params[-1] = class_\n",
    "    print('super_class: {:}'.format(class_))\n",
    "    # use * to unpack a sequence, refer to function_test\n",
    "    C2_1_container.append(C2_1(*params))"
   ]
  },
  {
   "cell_type": "code",
   "execution_count": 83,
   "metadata": {},
   "outputs": [
    {
     "name": "stdout",
     "output_type": "stream",
     "text": [
      "B1 init\n",
      "B2 init\n",
      "A1 init\n"
     ]
    }
   ],
   "source": [
    "# Sub class without an init method, will use the init method from parent\n",
    "# class, according to order from MRO\n",
    "c2_2 = C2_2(7, 8, 9)"
   ]
  },
  {
   "cell_type": "code",
   "execution_count": 46,
   "metadata": {
    "scrolled": true
   },
   "outputs": [
    {
     "name": "stdout",
     "output_type": "stream",
     "text": [
      "From B1\n",
      "Method of C2_1\n"
     ]
    }
   ],
   "source": [
    "# Inherit from B1, according to MRO, search for and use the first encountered parent method.\n",
    "c2_1.sub_method()"
   ]
  },
  {
   "cell_type": "code",
   "execution_count": null,
   "metadata": {},
   "outputs": [],
   "source": [
    "# MRO reference\n",
    "# from http://www.runoob.com/w3cnote/python-super-detail-intro.html"
   ]
  },
  {
   "cell_type": "code",
   "execution_count": 90,
   "metadata": {},
   "outputs": [
    {
     "name": "stdout",
     "output_type": "stream",
     "text": [
      "self is <__main__.D object at 0x0000026FC73FD240> @D.add\n",
      "self is <__main__.D object at 0x0000026FC73FD240> @B.add\n",
      "self is <__main__.D object at 0x0000026FC73FD240> @C.add\n",
      "self is <__main__.D object at 0x0000026FC73FD240> @A.add\n",
      "19\n"
     ]
    }
   ],
   "source": [
    "class A:\n",
    "    def __init__(self):\n",
    "        self.n = 2\n",
    "\n",
    "    def add(self, m):\n",
    "        # 第四步\n",
    "        # 来自 D.add 中的 super\n",
    "        # self == d, self.n == d.n == 5\n",
    "        print('self is {0} @A.add'.format(self))\n",
    "        self.n += m\n",
    "        # d.n == 7\n",
    "\n",
    "\n",
    "class B(A):\n",
    "    def __init__(self):\n",
    "        self.n = 3\n",
    "\n",
    "    def add(self, m):\n",
    "        # 第二步\n",
    "        # 来自 D.add 中的 super\n",
    "        # self == d, self.n == d.n == 5\n",
    "        print('self is {0} @B.add'.format(self))\n",
    "        # 等价于 suepr(B, self).add(m)\n",
    "        # self 的 MRO 是 [D, B, C, A, object]\n",
    "        # 从 B 之后的 [C, A, object] 中查找 add 方法\n",
    "        super().add(m)\n",
    "\n",
    "        # 第六步\n",
    "        # d.n = 11\n",
    "        self.n += 3\n",
    "        # d.n = 14\n",
    "\n",
    "class C(A):\n",
    "    def __init__(self):\n",
    "        self.n = 4\n",
    "\n",
    "    def add(self, m):\n",
    "        # 第三步\n",
    "        # 来自 B.add 中的 super\n",
    "        # self == d, self.n == d.n == 5\n",
    "        print('self is {0} @C.add'.format(self))\n",
    "        # 等价于 suepr(C, self).add(m)\n",
    "        # self 的 MRO 是 [D, B, C, A, object]\n",
    "        # 从 C 之后的 [A, object] 中查找 add 方法\n",
    "        super().add(m)\n",
    "\n",
    "        # 第五步\n",
    "        # d.n = 7\n",
    "        self.n += 4\n",
    "        # d.n = 11\n",
    "\n",
    "\n",
    "class D(B, C):\n",
    "    def __init__(self):\n",
    "        self.n = 5\n",
    "\n",
    "    def add(self, m):\n",
    "        # 第一步\n",
    "        print('self is {0} @D.add'.format(self))\n",
    "        # 等价于 super(D, self).add(m)\n",
    "        # self 的 MRO 是 [D, B, C, A, object]\n",
    "        # 从 D 之后的 [B, C, A, object] 中查找 add 方法\n",
    "        super().add(m)\n",
    "\n",
    "        # 第七步\n",
    "        # d.n = 14\n",
    "        self.n += 5\n",
    "        # self.n = 19\n",
    "\n",
    "d = D()\n",
    "d.add(2)\n",
    "print(d.n)"
   ]
  },
  {
   "cell_type": "code",
   "execution_count": null,
   "metadata": {},
   "outputs": [],
   "source": []
  }
 ],
 "metadata": {
  "kernelspec": {
   "display_name": "Python 3",
   "language": "python",
   "name": "python3"
  },
  "language_info": {
   "codemirror_mode": {
    "name": "ipython",
    "version": 3
   },
   "file_extension": ".py",
   "mimetype": "text/x-python",
   "name": "python",
   "nbconvert_exporter": "python",
   "pygments_lexer": "ipython3",
   "version": "3.7.2"
  }
 },
 "nbformat": 4,
 "nbformat_minor": 2
}
