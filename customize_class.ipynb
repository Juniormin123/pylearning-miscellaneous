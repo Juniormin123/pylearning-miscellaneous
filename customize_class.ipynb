{
 "cells": [
  {
   "cell_type": "markdown",
   "metadata": {},
   "source": [
    "#### Use special methods to customize class"
   ]
  },
  {
   "cell_type": "markdown",
   "metadata": {},
   "source": [
    "Refence:   \n",
    "https://www.liaoxuefeng.com/wiki/0014316089557264a6b348958f449949df42a6d3a2e542c000/0014319098638265527beb24f7840aa97de564ccc7f20f6000\n",
    "Detailed reference:   \n",
    "https://www.cnblogs.com/wangyongsong/category/991097.html   \n",
    "Python Doc:   \n",
    "https://docs.python.org/3/reference/datamodel.html#data-model   \n",
    "https://docs.python.org/3/reference/datamodel.html#basic-customization"
   ]
  },
  {
   "cell_type": "code",
   "execution_count": null,
   "metadata": {},
   "outputs": [],
   "source": []
  },
  {
   "cell_type": "markdown",
   "metadata": {},
   "source": [
    "**Basic customization:**   \n",
    "\n",
    "*    `__new__(cls[, ...])`: Called to create a new instance of class cls.\n",
    "*    `__init__(self[, ...])`: Instance initialize, Called after the instance has been created (by __new__()), but before it is returned to the caller.\n",
    "*    `__del__(self)`: Called when the instance is *about* to be destroyed. This is also called a finalizer or (improperly) a destructor.\n",
    "\n",
    "\n",
    "*   `__repr__(self)`: Called by the repr() built-in function to compute the “official” string representation of an object. *Should return a string*. Decide what to display when output directly by the python console.\n",
    "*    `__str__(self)`: Called by str(object) and the built-in functions format() and print() to compute the “informal” or nicely printable string representation of an object. *The return value must be a string object.*\n",
    "\n",
    "\n",
    "*    `__bytes__(self)`: Called by bytes to compute a byte-string representation of an object. This should return a bytes object.\n",
    "*    `__format__(self, format_spec)`:Called by the format() built-in function, and by extension, evaluation of formatted string literals and the str.format() method, to produce a “formatted” string representation of an object. The format_spec argument is a string that contains a description of the formatting options desired. object.\\_\\_format\\_\\_(x, '') is now equivalent to str(x)\n",
    "\n",
    "\n",
    "**logic**\n",
    "*    `__lt__(self, other_instance)`: Lower than, **x<y** calls x.\\_\\_lt\\_\\_(y)\n",
    "*    `__le__(self, other_instance)`: Lower than or equal, **x<=y** calls x.\\_\\_le\\_\\_(y)\n",
    "*    `__eq__(self, other_instance)`: Logic equal, **x==y** calls x.\\_\\_eq\\_\\_(y)\n",
    "*    `__ne__(self, other_instance)`: Logic not equal, **x!=y** calls x.\\_\\_ne\\_\\_(y)\n",
    "*    `__gt__(self, other_instance)`: Greater than, **x>y** calls x.\\_\\_gt\\_\\_(y)\n",
    "*    `__ge__(self, other_instance)`: Greater than or equal, **x>=y** calls x.\\_\\_ge\\_\\_(y)\n",
    "*    `__bool__(self)`: Called to implement truth value testing and the built-in operation bool(); should return False or True. When this method is not defined, __len__() is called, if it is defined, and the object is considered true if its result is nonzero. If a class defines neither __len__() nor __bool__(), all its instances are considered true.\n",
    "\n",
    "\n",
    "**hash**\n",
    "*    `__hash__(self)`: Called by built-in function hash() and for operations on members of hashed collections including set, frozenset, and dict. __hash__() should return an integer."
   ]
  },
  {
   "cell_type": "markdown",
   "metadata": {},
   "source": [
    "**Customizing attribute access**   \n",
    "The following methods can be defined to customize the meaning of attribute access (use of, assignment to, or deletion of **x.name**) for class instances.    \n",
    "\n",
    "*    `__getattr__(self, name)`: Called when the default attribute access fails with an AttributeError (either __getattribute__() raises an AttributeError because name is not an instance attribute or an attribute in the class tree for self; or __get__() of a name property raises AttributeError). This method should either return the (computed) attribute value or raise an AttributeError exception.    \n",
    "\n",
    "\n",
    "*    `__getattribute__(self, name)`: Called unconditionally to implement attribute accesses for instances of the class. If the class also defines __getattr__(), the latter will not be called unless __getattribute__() either calls it explicitly or raises an AttributeError.    \n",
    "\n",
    "\n",
    "*    `__setattr__(self, name, value)`: Called when an attribute assignment is attempted. This is called instead of the normal mechanism (i.e. store the value in the instance dictionary). name is the attribute name, value is the value to be assigned to it.    \n",
    "\n",
    "\n",
    "*    `__delattr__(self, name)`: Like __setattr__() but for attribute deletion instead of assignment. This should only be implemented if del obj.name is meaningful for the object.    \n",
    "\n",
    "\n",
    "*    `__dir__(self)`: Called when dir() is called on the object. *A sequence must be returned.* dir() converts the returned sequence to a list and sorts it."
   ]
  },
  {
   "cell_type": "markdown",
   "metadata": {},
   "source": [
    "**Implementing Discriptors**    \n",
    "    \n",
    "Reference:     \n",
    "https://docs.python.org/3/reference/datamodel.html#implementing-descriptors    \n",
    "https://docs.python.org/3/howto/descriptor.html    \n",
    "To add"
   ]
  },
  {
   "cell_type": "markdown",
   "metadata": {},
   "source": [
    "**Emulating callable objects**    \n",
    "*    `__call__(self[, args...])`: Called when the instance is “called” as a function; if this method is defined, x(arg1, arg2, ...) is a shorthand for x.__call__(arg1, arg2, ...). Class will work like a function."
   ]
  },
  {
   "cell_type": "markdown",
   "metadata": {},
   "source": [
    "**Emulating container types**    \n",
    "\n",
    "*    `__len__(self)`: Called to implement the built-in function len(). Should return the length of the object, an integer >= 0. Also, an object that doesn’t define a __bool__() method and whose __len__() method returns zero is considered to be false in a Boolean context.    \n",
    "\n",
    "\n",
    "*    `__length_hint__(self)`: Called to implement operator.length_hint(). Should return an estimated length for the object (which may be greater or less than the actual length). The length must be an integer >= 0. This method is purely an optimization and is never required for correctness.    \n",
    "\n",
    "\n",
    "*    `__getitem__(self, key)`: Called to implement evaluation of **self[key]**. For sequence types, the accepted *keys should be integers and slice objects*.     \n",
    "\n",
    "\n",
    "*    `__setitem__(self, key, value)`: Called to implement assignment to self[key].    \n",
    "\n",
    "\n",
    "*    `__delitem__(self, key)`: Called to implement deletion of self[key].    \n",
    "\n",
    "\n",
    "*    `__missing__(self, key)`: Called by dict.__getitem__() to implement self[key] for dict subclasses when key is not in the dictionary.    \n",
    "\n",
    "\n",
    "*    `__iter__(self)`: This method is called when an iterator is required for a container. This method should return a new iterator object that can iterate over all the objects in the container. *For mappings, it should iterate over the keys of the container*. Iterator objects also need to implement this method; they are required to return themselves. For more information on iterator objects, see Iterator Types.    \n",
    "\n",
    "\n",
    "*    `__reversed__(self)`: Called (if present) by the reversed() built-in to implement reverse iteration. It should return a new iterator object that iterates over all the objects in the container in reverse order.    \n",
    "\n",
    "\n",
    "*    `__contains__(self, item)`: Called to implement membership test operators. **Should return true if item is in self, false otherwise**. For mapping objects, this should consider the keys of the mapping rather than the values or the key-item pairs."
   ]
  },
  {
   "cell_type": "markdown",
   "metadata": {},
   "source": [
    "**Emulating numeric types**    \n",
    "Reference:    \n",
    "https://docs.python.org/3/reference/datamodel.html#emulating-numeric-types"
   ]
  },
  {
   "cell_type": "markdown",
   "metadata": {},
   "source": [
    "**With Statement Context Managers**    \n",
    "\n",
    "*    `__enter__(self)`: Enter the runtime context related to this object. The with statement will bind this method’s return value to the target(s) specified in the as clause of the statement, if any.    \n",
    "\n",
    "\n",
    "*    `__exit__(self, exc_type, exc_value, traceback)`: Exit the runtime context related to this object. The parameters describe the exception that caused the context to be exited. If the context was exited without an exception, all three arguments will be None. If an exception is supplied, and the method wishes to suppress the exception (i.e., prevent it from being propagated), it should return a true value. Otherwise, the exception will be processed normally upon exit from this method. Note that __exit__() methods should not reraise the passed-in exception; this is the caller’s responsibility."
   ]
  },
  {
   "cell_type": "code",
   "execution_count": null,
   "metadata": {},
   "outputs": [],
   "source": []
  },
  {
   "cell_type": "code",
   "execution_count": null,
   "metadata": {},
   "outputs": [],
   "source": []
  },
  {
   "cell_type": "code",
   "execution_count": null,
   "metadata": {},
   "outputs": [],
   "source": []
  },
  {
   "cell_type": "code",
   "execution_count": null,
   "metadata": {},
   "outputs": [],
   "source": []
  },
  {
   "cell_type": "code",
   "execution_count": 2,
   "metadata": {},
   "outputs": [],
   "source": [
    "# A modified dict class that can be accessed by attribute\n",
    "class dict_attr(dict):\n",
    "    def __init__(self, **kw):\n",
    "        super().__init__(**kw)\n",
    "    \n",
    "    def __getattr__(self, key):\n",
    "        try:\n",
    "            return self[key]\n",
    "        except KeyError:\n",
    "            raise AttributeError('No such key: {}'.format(key))\n",
    "    \n",
    "    def __setattr__(self, key, value):\n",
    "        self[key] = value"
   ]
  },
  {
   "cell_type": "code",
   "execution_count": null,
   "metadata": {},
   "outputs": [],
   "source": []
  },
  {
   "cell_type": "code",
   "execution_count": 115,
   "metadata": {},
   "outputs": [],
   "source": [
    "# Customize for numeric types and logic comparison\n",
    "class Point:\n",
    "    __slots__ = ('__x', '__y')\n",
    "    \n",
    "    # Origin point\n",
    "    __origin = (0, 0)\n",
    "    \n",
    "    def __init__(self, x, y):\n",
    "        if isinstance(x, (int, float)) and isinstance(y, (int, float)):\n",
    "            self.__x = x\n",
    "            self.__y = y\n",
    "        else:\n",
    "            raise TypeError('Coordinates should be number.')\n",
    "    \n",
    "    @property\n",
    "    def x(self):\n",
    "        return self.__x\n",
    "    \n",
    "    @property\n",
    "    def y(self):\n",
    "        return self.__y\n",
    "    \n",
    "    @property\n",
    "    def cord(self):\n",
    "        return self.x, self.y\n",
    "    \n",
    "    # Define add method\n",
    "    def __add__(self, other):\n",
    "        return Point(self.x+other.x, self.y+other.y)\n",
    "    \n",
    "    # Define subtract method\n",
    "    def __sub__(self, other):\n",
    "        return Point(self.x-other.x, self.y-other.y)\n",
    "    \n",
    "    # Compare the distance to the origin point\n",
    "    # Define comparison method greater than\n",
    "    def __gt__(self, other):\n",
    "        if (self.x**2+self.y**2) > (other.x**2 + other.y**2):\n",
    "            return True\n",
    "        else:\n",
    "            return False\n",
    "    \n",
    "    # Define comparison equal\n",
    "    def __eq__(self, other):\n",
    "        if (self.x**2+self.y**2) == (other.x**2 + other.y**2):\n",
    "            return True\n",
    "        else:\n",
    "            return False\n",
    "    \n",
    "    # Define greater and equal\n",
    "    def __ge__(self, other):\n",
    "        if self.__gt__(other) or self.__eq__(other):\n",
    "            return True\n",
    "        else:\n",
    "            return False\n",
    "    \n",
    "    # Define the content when print() is called\n",
    "    def __str__(self):\n",
    "        return 'Point' + str((self.x, self.y))\n",
    "    \n",
    "    # Set the console output to have the same action as __str__(self)\n",
    "    __repr__ = __str__\n",
    "    "
   ]
  },
  {
   "cell_type": "code",
   "execution_count": 116,
   "metadata": {},
   "outputs": [],
   "source": [
    "class CreatePoint:\n",
    "    __origin = (0, 0)\n",
    "    \n",
    "    @staticmethod\n",
    "    def create(x, y):\n",
    "        return Point(x, y)\n",
    "    \n",
    "    @classmethod\n",
    "    def origin(cls):\n",
    "        return Point(*cls.__origin)"
   ]
  },
  {
   "cell_type": "code",
   "execution_count": 137,
   "metadata": {},
   "outputs": [],
   "source": [
    "# Customize a container\n",
    "class PointList:\n",
    "    __slots__ = ('__container')\n",
    "    # __container = []\n",
    "    \n",
    "    def __init__(self, *args):\n",
    "        self.__container = []\n",
    "        if len(args) != 0:\n",
    "            for p in args:\n",
    "                if isinstance(p, Point):\n",
    "                    self.__container.append(p)\n",
    "        if self.__container == []:\n",
    "            print('No points added.')\n",
    "    \n",
    "    @property\n",
    "    def container(self):\n",
    "        return self.__container\n",
    "    \n",
    "    def __getattr__(self, name):\n",
    "        i = int(name[1])\n",
    "        if name[0].lower() == 'p':\n",
    "            if i <= len(self.__container):\n",
    "                return self.__container[i-1]\n",
    "            else:\n",
    "                raise AttributeError('point index out of range.')\n",
    "        else:\n",
    "            raise AttributeError('Attribute \"{}\" not in PointList \"{}\".'.format(name, self))\n",
    "    \n",
    "    def __getitem__(self, key):\n",
    "        if type(key) == int:\n",
    "            return self.__container[key]\n",
    "    "
   ]
  },
  {
   "cell_type": "code",
   "execution_count": 130,
   "metadata": {},
   "outputs": [],
   "source": [
    "p1 = Point(1, 6)"
   ]
  },
  {
   "cell_type": "code",
   "execution_count": 131,
   "metadata": {},
   "outputs": [],
   "source": [
    "p2 = Point(7, 7)"
   ]
  },
  {
   "cell_type": "code",
   "execution_count": null,
   "metadata": {},
   "outputs": [],
   "source": []
  },
  {
   "cell_type": "code",
   "execution_count": 138,
   "metadata": {},
   "outputs": [],
   "source": [
    "plist1 = PointList(p1, p2)"
   ]
  },
  {
   "cell_type": "code",
   "execution_count": 142,
   "metadata": {},
   "outputs": [],
   "source": [
    "plist1[:]"
   ]
  },
  {
   "cell_type": "code",
   "execution_count": null,
   "metadata": {},
   "outputs": [],
   "source": []
  },
  {
   "cell_type": "code",
   "execution_count": 55,
   "metadata": {},
   "outputs": [
    {
     "data": {
      "text/plain": [
       "(-6, -1)"
      ]
     },
     "execution_count": 55,
     "metadata": {},
     "output_type": "execute_result"
    }
   ],
   "source": [
    "p1 - p2"
   ]
  },
  {
   "cell_type": "code",
   "execution_count": 56,
   "metadata": {},
   "outputs": [
    {
     "data": {
      "text/plain": [
       "(8, 13)"
      ]
     },
     "execution_count": 56,
     "metadata": {},
     "output_type": "execute_result"
    }
   ],
   "source": [
    "p2 + p1"
   ]
  },
  {
   "cell_type": "code",
   "execution_count": 57,
   "metadata": {},
   "outputs": [
    {
     "data": {
      "text/plain": [
       "(6, 1)"
      ]
     },
     "execution_count": 57,
     "metadata": {},
     "output_type": "execute_result"
    }
   ],
   "source": [
    "p2 - p1"
   ]
  },
  {
   "cell_type": "code",
   "execution_count": 84,
   "metadata": {},
   "outputs": [
    {
     "data": {
      "text/plain": [
       "True"
      ]
     },
     "execution_count": 84,
     "metadata": {},
     "output_type": "execute_result"
    }
   ],
   "source": [
    "p3 = Point(1, 6)\n",
    "p3 == p1"
   ]
  },
  {
   "cell_type": "code",
   "execution_count": 83,
   "metadata": {},
   "outputs": [
    {
     "data": {
      "text/plain": [
       "True"
      ]
     },
     "execution_count": 83,
     "metadata": {},
     "output_type": "execute_result"
    }
   ],
   "source": [
    "Point(7, 6) <= p2"
   ]
  },
  {
   "cell_type": "code",
   "execution_count": 93,
   "metadata": {},
   "outputs": [
    {
     "data": {
      "text/plain": [
       "True"
      ]
     },
     "execution_count": 93,
     "metadata": {},
     "output_type": "execute_result"
    }
   ],
   "source": [
    "isinstance(p1, Point)"
   ]
  },
  {
   "cell_type": "code",
   "execution_count": null,
   "metadata": {},
   "outputs": [],
   "source": []
  },
  {
   "cell_type": "code",
   "execution_count": null,
   "metadata": {},
   "outputs": [],
   "source": []
  },
  {
   "cell_type": "code",
   "execution_count": null,
   "metadata": {},
   "outputs": [],
   "source": []
  },
  {
   "cell_type": "code",
   "execution_count": 46,
   "metadata": {},
   "outputs": [],
   "source": [
    "p0 = CreatePoint.origin()"
   ]
  },
  {
   "cell_type": "code",
   "execution_count": 42,
   "metadata": {},
   "outputs": [
    {
     "data": {
      "text/plain": [
       "(0, 0)"
      ]
     },
     "execution_count": 42,
     "metadata": {},
     "output_type": "execute_result"
    }
   ],
   "source": [
    "p0.cord"
   ]
  },
  {
   "cell_type": "code",
   "execution_count": 43,
   "metadata": {},
   "outputs": [
    {
     "name": "stdout",
     "output_type": "stream",
     "text": [
      "(1, 6)\n"
     ]
    }
   ],
   "source": [
    "print(p1)"
   ]
  },
  {
   "cell_type": "code",
   "execution_count": 44,
   "metadata": {},
   "outputs": [
    {
     "data": {
      "text/plain": [
       "__main__.Point"
      ]
     },
     "execution_count": 44,
     "metadata": {},
     "output_type": "execute_result"
    }
   ],
   "source": [
    "type(p1)"
   ]
  },
  {
   "cell_type": "code",
   "execution_count": 91,
   "metadata": {},
   "outputs": [],
   "source": [
    "from enum import Enum"
   ]
  },
  {
   "cell_type": "code",
   "execution_count": 92,
   "metadata": {},
   "outputs": [],
   "source": [
    "Enum??"
   ]
  },
  {
   "cell_type": "code",
   "execution_count": 124,
   "metadata": {},
   "outputs": [
    {
     "data": {
      "text/plain": [
       "['_Point__origin',\n",
       " '_Point__x',\n",
       " '_Point__y',\n",
       " '__add__',\n",
       " '__class__',\n",
       " '__delattr__',\n",
       " '__dir__',\n",
       " '__doc__',\n",
       " '__eq__',\n",
       " '__format__',\n",
       " '__ge__',\n",
       " '__getattribute__',\n",
       " '__gt__',\n",
       " '__hash__',\n",
       " '__init__',\n",
       " '__init_subclass__',\n",
       " '__le__',\n",
       " '__lt__',\n",
       " '__module__',\n",
       " '__ne__',\n",
       " '__new__',\n",
       " '__reduce__',\n",
       " '__reduce_ex__',\n",
       " '__repr__',\n",
       " '__setattr__',\n",
       " '__sizeof__',\n",
       " '__slots__',\n",
       " '__str__',\n",
       " '__sub__',\n",
       " '__subclasshook__',\n",
       " 'cord',\n",
       " 'x',\n",
       " 'y']"
      ]
     },
     "execution_count": 124,
     "metadata": {},
     "output_type": "execute_result"
    }
   ],
   "source": [
    "dir(p1)"
   ]
  },
  {
   "cell_type": "code",
   "execution_count": null,
   "metadata": {},
   "outputs": [],
   "source": []
  }
 ],
 "metadata": {
  "kernelspec": {
   "display_name": "Python 3",
   "language": "python",
   "name": "python3"
  },
  "language_info": {
   "codemirror_mode": {
    "name": "ipython",
    "version": 3
   },
   "file_extension": ".py",
   "mimetype": "text/x-python",
   "name": "python",
   "nbconvert_exporter": "python",
   "pygments_lexer": "ipython3",
   "version": "3.7.2"
  },
  "toc": {
   "base_numbering": 1,
   "nav_menu": {},
   "number_sections": false,
   "sideBar": true,
   "skip_h1_title": false,
   "title_cell": "Table of Contents",
   "title_sidebar": "Contents",
   "toc_cell": false,
   "toc_position": {
    "height": "calc(100% - 180px)",
    "left": "10px",
    "top": "150px",
    "width": "329px"
   },
   "toc_section_display": true,
   "toc_window_display": true
  },
  "varInspector": {
   "cols": {
    "lenName": 16,
    "lenType": 16,
    "lenVar": 40
   },
   "kernels_config": {
    "python": {
     "delete_cmd_postfix": "",
     "delete_cmd_prefix": "del ",
     "library": "var_list.py",
     "varRefreshCmd": "print(var_dic_list())"
    },
    "r": {
     "delete_cmd_postfix": ") ",
     "delete_cmd_prefix": "rm(",
     "library": "var_list.r",
     "varRefreshCmd": "cat(var_dic_list()) "
    }
   },
   "types_to_exclude": [
    "module",
    "function",
    "builtin_function_or_method",
    "instance",
    "_Feature"
   ],
   "window_display": false
  }
 },
 "nbformat": 4,
 "nbformat_minor": 2
}
