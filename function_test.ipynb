{
 "cells": [
  {
   "cell_type": "markdown",
   "metadata": {},
   "source": [
    "#### Function params unpack"
   ]
  },
  {
   "cell_type": "code",
   "execution_count": 2,
   "metadata": {},
   "outputs": [],
   "source": [
    "# Test for function parameters"
   ]
  },
  {
   "cell_type": "code",
   "execution_count": 3,
   "metadata": {},
   "outputs": [
    {
     "data": {
      "text/plain": [
       "[0, 1, 2, 3, 4, 5, 6, 7, 8, 9]"
      ]
     },
     "execution_count": 3,
     "metadata": {},
     "output_type": "execute_result"
    }
   ],
   "source": [
    "alist = list(range(10))\n",
    "alist"
   ]
  },
  {
   "cell_type": "code",
   "execution_count": 4,
   "metadata": {},
   "outputs": [
    {
     "name": "stdout",
     "output_type": "stream",
     "text": [
      "0 1 2\n",
      "[3, 4, 5, 6, 7, 8]\n",
      "9\n"
     ]
    }
   ],
   "source": [
    "# Unpack in the middle of a sequence\n",
    "aa, bb, cc, *k, dd = alist\n",
    "print(aa, bb, cc)\n",
    "print(k)\n",
    "print(dd)"
   ]
  },
  {
   "cell_type": "code",
   "execution_count": 5,
   "metadata": {},
   "outputs": [],
   "source": [
    "# Use * when defining parameters to take abitary amount of parameters\n",
    "def test_sum(*num):\n",
    "    sum_ = 0\n",
    "    for i in num:\n",
    "        sum_ += i\n",
    "    return sum_"
   ]
  },
  {
   "cell_type": "code",
   "execution_count": 8,
   "metadata": {},
   "outputs": [
    {
     "data": {
      "text/plain": [
       "45"
      ]
     },
     "execution_count": 8,
     "metadata": {},
     "output_type": "execute_result"
    }
   ],
   "source": [
    "# Use * to unpack a sequence and pass it to a function which takes abitary amount of parameters\n",
    "test_sum(*alist)"
   ]
  },
  {
   "cell_type": "code",
   "execution_count": 10,
   "metadata": {},
   "outputs": [
    {
     "name": "stdout",
     "output_type": "stream",
     "text": [
      "3 4 5 6 7 8\n"
     ]
    }
   ],
   "source": [
    "# Another example\n",
    "print(*k)"
   ]
  },
  {
   "cell_type": "code",
   "execution_count": null,
   "metadata": {},
   "outputs": [],
   "source": []
  },
  {
   "cell_type": "markdown",
   "metadata": {},
   "source": [
    "#### Function parameters"
   ]
  },
  {
   "cell_type": "markdown",
   "metadata": {},
   "source": [
    "Reference: https://www.liaoxuefeng.com/wiki/0014316089557264a6b348958f449949df42a6d3a2e542c000/001431752945034eb82ac80a3e64b9bb4929b16eeed1eb9000"
   ]
  },
  {
   "cell_type": "code",
   "execution_count": 7,
   "metadata": {},
   "outputs": [],
   "source": [
    "# Use one * to separate between position paramters and named keyword parameters\n",
    "def kw_test(pos1, pos2, *, name, age):\n",
    "    print('Position parameter 1 -> {:}'.format(pos1))\n",
    "    print('Position parameter 2 -> {:}'.format(pos2))\n",
    "    \n",
    "    print('Named keyword parameter 1 -> name: {:}'.format(name))\n",
    "    print('Named keyword parameter 2 -> age: {:}'.format(age))"
   ]
  },
  {
   "cell_type": "code",
   "execution_count": 8,
   "metadata": {},
   "outputs": [
    {
     "name": "stdout",
     "output_type": "stream",
     "text": [
      "Position parameter 1 -> 1\n",
      "Position parameter 2 -> 2\n",
      "Named keyword parameter 1 -> name: a\n",
      "Named keyword parameter 2 -> age: 5\n"
     ]
    }
   ],
   "source": [
    "# When calling a named parameter, the key must be provided, otherwise it will be recognized as \n",
    "# position parameter\n",
    "kw_test(1, 2, name='a', age=5)"
   ]
  },
  {
   "cell_type": "code",
   "execution_count": 15,
   "metadata": {},
   "outputs": [],
   "source": [
    "# Arbitary keyword parameters, **kw as a dict container for undefined keyword parameters\n",
    "# if variable parameters like *args exits, which follows can be named keyword parameters\n",
    "\n",
    "# A function containing all type of parameters, order matters\n",
    "def kw_test_2(pos1, pos2=2, *args, name, age=3, **kw):\n",
    "    print('Position parameter 1 -> {:}'.format(pos1))\n",
    "    print('Position parameter 2 -> {:}'.format(pos2))\n",
    "    print('Other variable parameters: {:}'.format(args))\n",
    "    \n",
    "    print('Named keyword parameter 1 -> name: {:}'.format(name))\n",
    "    print('Named keyword parameter 2 -> age: {:}'.format(age))\n",
    "    print('Other keyword parameters: {:}'.format(kw))\n",
    "    \n",
    "    # Check whether specified keys in kw\n",
    "    if 'code' in kw:\n",
    "        print('Checked keyword parameter -> code: {:}'.format(kw['code']))"
   ]
  },
  {
   "cell_type": "code",
   "execution_count": 16,
   "metadata": {},
   "outputs": [
    {
     "name": "stdout",
     "output_type": "stream",
     "text": [
      "Position parameter 1 -> 11\n",
      "Position parameter 2 -> 22\n",
      "Other variable parameters: (44, 55)\n",
      "Named keyword parameter 1 -> name: test\n",
      "Named keyword parameter 2 -> age: 3\n",
      "Other keyword parameters: {'city': 'a', 'code': 5}\n",
      "Checked keyword parameter -> code: 5\n"
     ]
    }
   ],
   "source": [
    "# overwrite default pos2, use default age\n",
    "kw_test_2(11, 22, 44, 55, name='test', city='a', code=5)"
   ]
  },
  {
   "cell_type": "code",
   "execution_count": 18,
   "metadata": {},
   "outputs": [
    {
     "name": "stdout",
     "output_type": "stream",
     "text": [
      "Position parameter 1 -> 11\n",
      "Position parameter 2 -> 22\n",
      "Other variable parameters: (33, 44, 55)\n",
      "Named keyword parameter 1 -> name: test\n",
      "Named keyword parameter 2 -> age: 3\n",
      "Other keyword parameters: {'city': 'a', 'code': 5, 'code2': 55}\n",
      "Checked keyword parameter -> code: 5\n"
     ]
    }
   ],
   "source": [
    "# Unpack sequnce as function parameters\n",
    "args = [11, 22, 33, 44, 55]\n",
    "kw = {'name': 'test', 'city':'a', 'code': 5, 'code2': 55}\n",
    "kw_test_2(*args, **kw)"
   ]
  },
  {
   "cell_type": "code",
   "execution_count": 27,
   "metadata": {},
   "outputs": [],
   "source": [
    "# A function to return product of arbitary number\n",
    "def product(*args):\n",
    "    if len(args) == 1:\n",
    "        return args[0] * args[0]\n",
    "    else:\n",
    "        prod = 1\n",
    "        for num in args:\n",
    "            prod *= num\n",
    "        return prod"
   ]
  },
  {
   "cell_type": "code",
   "execution_count": 28,
   "metadata": {},
   "outputs": [
    {
     "data": {
      "text/plain": [
       "4"
      ]
     },
     "execution_count": 28,
     "metadata": {},
     "output_type": "execute_result"
    }
   ],
   "source": [
    "product(*list(range(2, 3)))"
   ]
  },
  {
   "cell_type": "code",
   "execution_count": null,
   "metadata": {},
   "outputs": [],
   "source": []
  },
  {
   "cell_type": "markdown",
   "metadata": {},
   "source": [
    "#### Iteration"
   ]
  },
  {
   "cell_type": "markdown",
   "metadata": {},
   "source": [
    "Reference: https://www.liaoxuefeng.com/wiki/0014316089557264a6b348958f449949df42a6d3a2e542c000/0014317793224211f408912d9c04f2eac4d2af0d5d3d7b2000"
   ]
  },
  {
   "cell_type": "code",
   "execution_count": null,
   "metadata": {},
   "outputs": [],
   "source": []
  },
  {
   "cell_type": "markdown",
   "metadata": {},
   "source": [
    "#### Return Function and Closure"
   ]
  },
  {
   "cell_type": "markdown",
   "metadata": {},
   "source": [
    "Reference:\n",
    "https://www.liaoxuefeng.com/wiki/0014316089557264a6b348958f449949df42a6d3a2e542c000/001431835236741e42daf5af6514f1a8917b8aaadff31bf000"
   ]
  },
  {
   "cell_type": "code",
   "execution_count": 42,
   "metadata": {},
   "outputs": [],
   "source": [
    "# High level functions can take function as parameter and return function\n",
    "\n",
    "# Closure\n",
    "# Variable and parameters can be saved in the returned function\n",
    "\n",
    "def hf1(*args):\n",
    "    def sum_():\n",
    "        s = 0\n",
    "        # Use parameters from the high level function\n",
    "        for num in args:\n",
    "            s += num\n",
    "        return s\n",
    "    # Return a function\n",
    "    return sum_"
   ]
  },
  {
   "cell_type": "code",
   "execution_count": 47,
   "metadata": {},
   "outputs": [
    {
     "data": {
      "text/plain": [
       "<function __main__.hf1.<locals>.sum_()>"
      ]
     },
     "execution_count": 47,
     "metadata": {},
     "output_type": "execute_result"
    }
   ],
   "source": [
    "# Call the hf will not immediately return a value, return a function object instead\n",
    "# The result will be return only when the function is called\n",
    "hf1(*range(10))"
   ]
  },
  {
   "cell_type": "code",
   "execution_count": 48,
   "metadata": {},
   "outputs": [
    {
     "data": {
      "text/plain": [
       "45"
      ]
     },
     "execution_count": 48,
     "metadata": {},
     "output_type": "execute_result"
    }
   ],
   "source": [
    "# Assign the function object to a variable and then call the function to return the result\n",
    "HF1 = hf1(*range(10))\n",
    "HF1()"
   ]
  },
  {
   "cell_type": "code",
   "execution_count": 49,
   "metadata": {},
   "outputs": [
    {
     "data": {
      "text/plain": [
       "False"
      ]
     },
     "execution_count": 49,
     "metadata": {},
     "output_type": "execute_result"
    }
   ],
   "source": [
    "# Will return a new function everytime, different from previous function.\n",
    "HF2 = hf1(*range(10))\n",
    "HF1 == HF2"
   ]
  },
  {
   "cell_type": "code",
   "execution_count": 50,
   "metadata": {},
   "outputs": [],
   "source": [
    "# Practice\n",
    "# 利用闭包返回一个计数器函数，每次调用它返回递增整数："
   ]
  },
  {
   "cell_type": "code",
   "execution_count": 72,
   "metadata": {},
   "outputs": [],
   "source": [
    "# Answer 1\n",
    "def createCounter():\n",
    "    i = 0             # The outer function works like a working space, store varibles for inner layer functions,\n",
    "                      # will take effect only if the outer function is initialized *once*\n",
    "    def counter():\n",
    "        nonlocal i    # use *nonlocal* to find the variable in the first outer function only, but not global\n",
    "        i += 1\n",
    "        return i\n",
    "    return counter"
   ]
  },
  {
   "cell_type": "code",
   "execution_count": 77,
   "metadata": {},
   "outputs": [
    {
     "data": {
      "text/plain": [
       "1"
      ]
     },
     "execution_count": 77,
     "metadata": {},
     "output_type": "execute_result"
    }
   ],
   "source": [
    "# Directly call the inner function from the outer function without assigning the outer function to a \n",
    "# variable, will initialize the outer func every time the inner func is called, so the result will \n",
    "# always be 1\n",
    "createCounter()()"
   ]
  },
  {
   "cell_type": "code",
   "execution_count": 85,
   "metadata": {},
   "outputs": [],
   "source": [
    "# Assign the outer function first, will initialize once\n",
    "counter = createCounter()"
   ]
  },
  {
   "cell_type": "code",
   "execution_count": 89,
   "metadata": {},
   "outputs": [
    {
     "data": {
      "text/plain": [
       "4"
      ]
     },
     "execution_count": 89,
     "metadata": {},
     "output_type": "execute_result"
    }
   ],
   "source": [
    "# Call the inner function from the assigned name, will have the expected return\n",
    "counter()"
   ]
  },
  {
   "cell_type": "code",
   "execution_count": 104,
   "metadata": {},
   "outputs": [],
   "source": [
    "# Answer 2\n",
    "# Use list in the outer function to avoid using nonlocal \n",
    "def createCounter_2():\n",
    "    temp = [0]\n",
    "    def counter():\n",
    "        temp[0] += 1\n",
    "        # temp_inner = temp\n",
    "        # temp_inner[0] += 1\n",
    "        return temp[0]\n",
    "    return counter"
   ]
  },
  {
   "cell_type": "code",
   "execution_count": 105,
   "metadata": {},
   "outputs": [],
   "source": [
    "counter_2 = createCounter_2()"
   ]
  },
  {
   "cell_type": "code",
   "execution_count": 107,
   "metadata": {},
   "outputs": [
    {
     "data": {
      "text/plain": [
       "2"
      ]
     },
     "execution_count": 107,
     "metadata": {},
     "output_type": "execute_result"
    }
   ],
   "source": [
    "counter_2()"
   ]
  },
  {
   "cell_type": "markdown",
   "metadata": {},
   "source": [
    "#### Decorator"
   ]
  },
  {
   "cell_type": "markdown",
   "metadata": {},
   "source": [
    "Reference\n",
    "https://www.liaoxuefeng.com/wiki/0014316089557264a6b348958f449949df42a6d3a2e542c000/0014318435599930270c0381a3b44db991cd6d858064ac0000"
   ]
  },
  {
   "cell_type": "code",
   "execution_count": 7,
   "metadata": {},
   "outputs": [],
   "source": [
    "import time"
   ]
  },
  {
   "cell_type": "code",
   "execution_count": 16,
   "metadata": {},
   "outputs": [],
   "source": [
    "# Basic one-layer decorator\n",
    "def log(func):\n",
    "    def wraper(*args, **kw):\n",
    "        print('Pre-function text')\n",
    "        f = func(*args, **kw)\n",
    "        print('Post-function text')\n",
    "        return f \n",
    "    return wraper\n",
    "\n",
    "\n",
    "def timer(func):\n",
    "    def wraper(*args, **kw):\n",
    "        print('test')\n",
    "        time1 = time.time()\n",
    "        f = func(*args, **kw)\n",
    "        time2 = time.time()\n",
    "        print('Process time: {:2.8f}s'.format(time2-time1))\n",
    "        return f\n",
    "    return wraper"
   ]
  },
  {
   "cell_type": "code",
   "execution_count": 30,
   "metadata": {},
   "outputs": [],
   "source": [
    "\n",
    "def square_(x):\n",
    "    sq = x*x\n",
    "    print('result: {}'.format(sq))\n",
    "    return sq"
   ]
  },
  {
   "cell_type": "code",
   "execution_count": 31,
   "metadata": {},
   "outputs": [
    {
     "name": "stdout",
     "output_type": "stream",
     "text": [
      "result: 25000000000000000000\n"
     ]
    },
    {
     "data": {
      "text/plain": [
       "25000000000000000000"
      ]
     },
     "execution_count": 31,
     "metadata": {},
     "output_type": "execute_result"
    }
   ],
   "source": [
    "square_(5000000000)"
   ]
  },
  {
   "cell_type": "code",
   "execution_count": 40,
   "metadata": {},
   "outputs": [
    {
     "name": "stdout",
     "output_type": "stream",
     "text": [
      "test\n",
      "result: 25\n",
      "Process time: 0.00049567s\n"
     ]
    },
    {
     "data": {
      "text/plain": [
       "25"
      ]
     },
     "execution_count": 40,
     "metadata": {},
     "output_type": "execute_result"
    }
   ],
   "source": [
    "timer(square_)(5)"
   ]
  },
  {
   "cell_type": "code",
   "execution_count": 41,
   "metadata": {},
   "outputs": [
    {
     "name": "stdout",
     "output_type": "stream",
     "text": [
      "Pre-function text\n",
      "result: 25\n",
      "Post-function text\n"
     ]
    },
    {
     "data": {
      "text/plain": [
       "25"
      ]
     },
     "execution_count": 41,
     "metadata": {},
     "output_type": "execute_result"
    }
   ],
   "source": [
    "log(square_)(5)"
   ]
  },
  {
   "cell_type": "code",
   "execution_count": null,
   "metadata": {},
   "outputs": [],
   "source": []
  }
 ],
 "metadata": {
  "kernelspec": {
   "display_name": "Python 3",
   "language": "python",
   "name": "python3"
  },
  "language_info": {
   "codemirror_mode": {
    "name": "ipython",
    "version": 3
   },
   "file_extension": ".py",
   "mimetype": "text/x-python",
   "name": "python",
   "nbconvert_exporter": "python",
   "pygments_lexer": "ipython3",
   "version": "3.7.2"
  }
 },
 "nbformat": 4,
 "nbformat_minor": 2
}
